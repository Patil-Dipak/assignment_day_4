{
 "cells": [
  {
   "cell_type": "code",
   "execution_count": 1,
   "metadata": {},
   "outputs": [
    {
     "name": "stdout",
     "output_type": "stream",
     "text": [
      "a a a a a\n",
      "a \ta\n",
      "a \ta\n",
      "a a a a a\n"
     ]
    }
   ],
   "source": [
    "print('a a a a a\\na \\ta\\na \\ta\\na a a a a')"
   ]
  },
  {
   "cell_type": "code",
   "execution_count": null,
   "metadata": {},
   "outputs": [],
   "source": []
  },
  {
   "cell_type": "code",
   "execution_count": null,
   "metadata": {},
   "outputs": [],
   "source": []
  },
  {
   "cell_type": "code",
   "execution_count": 2,
   "metadata": {},
   "outputs": [
    {
     "name": "stdout",
     "output_type": "stream",
     "text": [
      "\t\ta \n",
      "\n",
      "\ta \t\ta \n",
      "\n",
      "\n",
      "a \ta \ta \ta \ta\n"
     ]
    }
   ],
   "source": [
    "print('\\t\\ta \\n\\n\\ta \\t\\ta \\n\\n\\na \\ta \\ta \\ta \\ta')"
   ]
  },
  {
   "cell_type": "code",
   "execution_count": null,
   "metadata": {},
   "outputs": [],
   "source": []
  },
  {
   "cell_type": "code",
   "execution_count": null,
   "metadata": {},
   "outputs": [],
   "source": []
  },
  {
   "cell_type": "code",
   "execution_count": null,
   "metadata": {},
   "outputs": [],
   "source": []
  },
  {
   "cell_type": "code",
   "execution_count": 14,
   "metadata": {},
   "outputs": [
    {
     "name": "stdout",
     "output_type": "stream",
     "text": [
      "Hellow To All Welcome To The World Of Python And Lets All Come Together To Learn Python\n"
     ]
    }
   ],
   "source": [
    "name =\"hellow to all welcome to the world of python and lets all come together to learn python\"\n",
    "print(name.title())"
   ]
  },
  {
   "cell_type": "code",
   "execution_count": 15,
   "metadata": {},
   "outputs": [
    {
     "name": "stdout",
     "output_type": "stream",
     "text": [
      "all\n",
      "all\n",
      "and\n",
      "come\n",
      "hellow\n",
      "learn\n",
      "lets\n",
      "of\n",
      "python\n",
      "python\n",
      "the\n",
      "to\n",
      "to\n",
      "to\n",
      "together\n",
      "welcome\n",
      "world\n"
     ]
    }
   ],
   "source": [
    "words = [word.lower() for word in name.split()]\n",
    "words.sort()\n",
    "\n",
    "for word in words:\n",
    " print(word)"
   ]
  },
  {
   "cell_type": "code",
   "execution_count": null,
   "metadata": {},
   "outputs": [],
   "source": []
  },
  {
   "cell_type": "code",
   "execution_count": null,
   "metadata": {},
   "outputs": [],
   "source": []
  },
  {
   "cell_type": "code",
   "execution_count": 4,
   "metadata": {},
   "outputs": [
    {
     "name": "stdout",
     "output_type": "stream",
     "text": [
      "Enter first no 55.77\n",
      "Enter second no. 88.66\n",
      "The sum is 144.4\n"
     ]
    }
   ],
   "source": [
    "print('The sum is %.1f' %(float(input('Enter first no ')) + float(input('Enter second no. '))))\n"
   ]
  },
  {
   "cell_type": "code",
   "execution_count": null,
   "metadata": {},
   "outputs": [],
   "source": []
  },
  {
   "cell_type": "code",
   "execution_count": 5,
   "metadata": {},
   "outputs": [
    {
     "name": "stdout",
     "output_type": "stream",
     "text": [
      "Enter first no.45.66\n",
      "Enter second no.23.88\n",
      "The sub is 21.8\n"
     ]
    }
   ],
   "source": [
    "print('The sub is %.1f' %(float(input('Enter first no.')) - float(input('Enter second no.'))))"
   ]
  },
  {
   "cell_type": "code",
   "execution_count": null,
   "metadata": {},
   "outputs": [],
   "source": []
  },
  {
   "cell_type": "code",
   "execution_count": 6,
   "metadata": {},
   "outputs": [
    {
     "name": "stdout",
     "output_type": "stream",
     "text": [
      "Enter first no.45.66\n",
      "Enter second no.34.67\n",
      "The multiplication is 1583.0\n"
     ]
    }
   ],
   "source": [
    "print('The multiplication is %.1f' %(float(input('Enter first no.')) * float(input('Enter second no.'))))"
   ]
  },
  {
   "cell_type": "code",
   "execution_count": null,
   "metadata": {},
   "outputs": [],
   "source": []
  },
  {
   "cell_type": "code",
   "execution_count": 7,
   "metadata": {},
   "outputs": [
    {
     "name": "stdout",
     "output_type": "stream",
     "text": [
      "Enter first no.456.88\n",
      "Enter second no.23.88\n",
      "The div is 19.1\n"
     ]
    }
   ],
   "source": [
    "print('The div is %.1f' %(float(input('Enter first no.')) / float(input('Enter second no.'))))\n"
   ]
  },
  {
   "cell_type": "code",
   "execution_count": null,
   "metadata": {},
   "outputs": [],
   "source": []
  },
  {
   "cell_type": "code",
   "execution_count": 8,
   "metadata": {},
   "outputs": [
    {
     "name": "stdout",
     "output_type": "stream",
     "text": [
      "first no.55\n",
      "second no.88\n",
      "x= 88 y= 55\n"
     ]
    }
   ],
   "source": [
    "#swap1\n",
    "x=int(input('first no.'))\n",
    "y=int(input('second no.'))\n",
    "x=x+y\n",
    "y=x-y\n",
    "x=x-y\n",
    "print('x=',x ,'y=',y)"
   ]
  },
  {
   "cell_type": "code",
   "execution_count": null,
   "metadata": {},
   "outputs": [],
   "source": []
  },
  {
   "cell_type": "code",
   "execution_count": 9,
   "metadata": {},
   "outputs": [
    {
     "name": "stdout",
     "output_type": "stream",
     "text": [
      "first no.667\n",
      "second no.354\n",
      "x= 354 y= 667\n"
     ]
    }
   ],
   "source": [
    "#swap2\n",
    "x=input('first no.')\n",
    "y=input('second no.')\n",
    "x,y=y,x\n",
    "print('x=',x ,'y=',y)"
   ]
  },
  {
   "cell_type": "code",
   "execution_count": null,
   "metadata": {},
   "outputs": [],
   "source": []
  },
  {
   "cell_type": "code",
   "execution_count": 10,
   "metadata": {},
   "outputs": [
    {
     "name": "stdout",
     "output_type": "stream",
     "text": [
      "no2 is maximum and no1 is minimum\n"
     ]
    }
   ],
   "source": [
    "#max and min for two no.\n",
    "no1=10\n",
    "no2=20\n",
    "\n",
    "if(no1>no2):\n",
    "\tprint('no1 is maximum and no2 is minimum')\n",
    "else :\n",
    "\tprint('no2 is maximum and no1 is minimum')\n"
   ]
  },
  {
   "cell_type": "code",
   "execution_count": null,
   "metadata": {},
   "outputs": [],
   "source": []
  },
  {
   "cell_type": "code",
   "execution_count": 11,
   "metadata": {},
   "outputs": [
    {
     "name": "stdout",
     "output_type": "stream",
     "text": [
      "first no.445\n",
      "second no.77\n",
      "third no.33\n",
      "x is maximum\n"
     ]
    }
   ],
   "source": [
    "#max and  from three no.s\n",
    "\n",
    "x=int(input('first no.'))\n",
    "y=int(input('second no.'))\n",
    "z=int(input('third no.'))\n",
    "\n",
    "if x>y and x>z:\n",
    "\tprint(\"x is maximum\")\n",
    "elif y>z :\n",
    "\tprint(\"y is maximum\")\n",
    "else :\n",
    "\tprint(\"z is maximum\")"
   ]
  },
  {
   "cell_type": "code",
   "execution_count": null,
   "metadata": {},
   "outputs": [],
   "source": []
  },
  {
   "cell_type": "code",
   "execution_count": 12,
   "metadata": {},
   "outputs": [
    {
     "name": "stdout",
     "output_type": "stream",
     "text": [
      "first no.11\n",
      "second no.77\n",
      "third no.55\n",
      "x is minimum\n"
     ]
    }
   ],
   "source": [
    "#min from three no.s\n",
    "\n",
    "x=int(input('first no.'))\n",
    "y=int(input('second no.'))\n",
    "z=int(input('third no.'))\n",
    "\n",
    "if x<y and x<z:\n",
    "\tprint(\"x is minimum\")\n",
    "elif y<z :\n",
    "\tprint(\"y is minimum\")\n",
    "else :\n",
    "\tprint(\"z is minimum\")"
   ]
  },
  {
   "cell_type": "code",
   "execution_count": null,
   "metadata": {},
   "outputs": [],
   "source": []
  },
  {
   "cell_type": "code",
   "execution_count": null,
   "metadata": {},
   "outputs": [],
   "source": []
  },
  {
   "cell_type": "code",
   "execution_count": null,
   "metadata": {},
   "outputs": [],
   "source": []
  },
  {
   "cell_type": "code",
   "execution_count": null,
   "metadata": {},
   "outputs": [],
   "source": []
  }
 ],
 "metadata": {
  "kernelspec": {
   "display_name": "Python 3",
   "language": "python",
   "name": "python3"
  },
  "language_info": {
   "codemirror_mode": {
    "name": "ipython",
    "version": 3
   },
   "file_extension": ".py",
   "mimetype": "text/x-python",
   "name": "python",
   "nbconvert_exporter": "python",
   "pygments_lexer": "ipython3",
   "version": "3.8.5"
  }
 },
 "nbformat": 4,
 "nbformat_minor": 4
}
